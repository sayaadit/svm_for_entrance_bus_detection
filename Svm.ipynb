{
 "cells": [
  {
   "cell_type": "code",
   "execution_count": null,
   "metadata": {},
   "outputs": [],
   "source": [
    "import pandas as pd\n",
    "import numpy as np\n",
    "import matplotlib.pyplot as plt\n",
    "get_ipython().run_line_magic('matplotlib', 'inline')\n",
    "import os\n",
    "from matplotlib import style\n",
    "\n",
    "\n",
    "train = pd.read_csv(\"datacuk.csv\")\n",
    "\n",
    "\n",
    "X = train.drop('class', axis=1)\n",
    "\n",
    "y = train['class']\n",
    "\n",
    "\n",
    "from sklearn.model_selection import train_test_split\n",
    "X_train, X_test, y_train, y_test = train_test_split(X, y, test_size = 0.50)\n",
    "\n",
    "\n",
    "import sklearn.svm as svcc\n",
    "\n",
    "svclassifier = svcc.NuSVC(kernel='linear')\n",
    "\n",
    "clf = svclassifier.fit(X_train, y_train)\n",
    "clf\n",
    "\n",
    "\n",
    "\n",
    "y_pred = svclassifier.predict(X_test)\n",
    "\n",
    "\n",
    "\n",
    "from sklearn import metrics\n",
    "\n",
    "\n",
    "print(\"Data Train:\")\n",
    "print(X_train)\n",
    "\n",
    "print(y_train)\n",
    "\n",
    "print(\"Data test :\")\n",
    "print(X_test)\n",
    "print(\"    \")\n",
    "print(\"Confussion matrix :\")\n",
    "print(\"----------------------------------------------------------------\")\n",
    "from sklearn.metrics import classification_report, confusion_matrix\n",
    "print(confusion_matrix(y_test,y_pred))\n",
    "print(classification_report(y_test,y_pred))\n",
    "print(\"Accuracy:\",metrics.accuracy_score(y_test, y_pred))\n"
   ]
  },
  {
   "cell_type": "code",
   "execution_count": null,
   "metadata": {},
   "outputs": [],
   "source": [
    "for hasill in y_pred :\n",
    "    if hasill == 0 :\n",
    "        print(\"turun\")\n",
    "    else :\n",
    "        print(\"naik\")"
   ]
  },
  {
   "cell_type": "code",
   "execution_count": null,
   "metadata": {},
   "outputs": [],
   "source": [
    "import sklearn.svm as svcc\n",
    "from sklearn import datasets\n",
    "from sklearn.preprocessing import StandardScaler\n",
    "import numpy as np\n",
    "from matplotlib import pyplot as plt\n",
    "\n",
    "\n",
    "y_pred = StandardScaler()\n",
    "X_std = y_pred.fit_transform(X)\n",
    "\n",
    "\n",
    "svc = svcc.NuSVC(kernel='linear')\n",
    "\n",
    "\n",
    "model = svc.fit(X_std, y)\n",
    "\n",
    "color = ['blue' if c == 0 else 'red' for c in y]\n",
    "plt.scatter(X_std[:,0], X_std[:,1], c=color)\n",
    "\n",
    "\n",
    "w = svc.coef_[0]\n",
    "a = -w[0] / w[1]\n",
    "xx = np.linspace(-2.5, 2.5)\n",
    "yy = a * xx - (svc.intercept_[0]) / w[1]\n",
    "\n",
    "\n",
    "plt.plot(xx, yy)\n",
    "plt.axis(\"on\"), plt.show();\n"
   ]
  },
  {
   "cell_type": "code",
   "execution_count": null,
   "metadata": {},
   "outputs": [],
   "source": []
  }
 ],
 "metadata": {
  "kernelspec": {
   "display_name": "Python 3",
   "language": "python",
   "name": "python3"
  },
  "language_info": {
   "codemirror_mode": {
    "name": "ipython",
    "version": 3
   },
   "file_extension": ".py",
   "mimetype": "text/x-python",
   "name": "python",
   "nbconvert_exporter": "python",
   "pygments_lexer": "ipython3",
   "version": "3.7.4"
  }
 },
 "nbformat": 4,
 "nbformat_minor": 2
}
